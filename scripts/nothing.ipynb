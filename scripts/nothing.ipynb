{
 "cells": [
  {
   "cell_type": "code",
   "execution_count": 40,
   "id": "a0f0d100",
   "metadata": {},
   "outputs": [],
   "source": [
    "import pandas as pd\n",
    "import json\n",
    "from pprint import pprint\n",
    "import ast"
   ]
  },
  {
   "cell_type": "code",
   "execution_count": 32,
   "id": "c9d1fe8c",
   "metadata": {},
   "outputs": [],
   "source": [
    "# sep: str | None = ...,\n",
    "DELIMITER = \"|\"\n",
    "# header: int | Sequence[int] | Literal['infer'] | None = ...,\n",
    "# names: ListLikeHashable[Unknown] | None = ...,\n",
    "INDEX_COL = False\n",
    "QUOTE = '\"'\n",
    "# usecols: UsecolsArgType[HashableT@read_csv] = ...,\n",
    "# dtype: DtypeArg | defaultdict[Unknown, Unknown] | None = ...,\n",
    "# engine: CSVEngine | None = ...,\n",
    "# converters: Mapping[int | str, (str) -> Any] | Mapping[int, (str) -> Any] | Mapping[str, (str) "
   ]
  },
  {
   "cell_type": "code",
   "execution_count": 46,
   "id": "e28a134b",
   "metadata": {},
   "outputs": [],
   "source": [
    "csv_file = '/mnt/Code/code/AI/agentic-AI/SQL-QA/logs/turn_log.csv'"
   ]
  },
  {
   "cell_type": "code",
   "execution_count": 47,
   "id": "4fb18b48",
   "metadata": {},
   "outputs": [],
   "source": [
    "df = pd.read_csv(csv_file, delimiter=DELIMITER, index_col=INDEX_COL, quotechar=QUOTE)"
   ]
  },
  {
   "cell_type": "code",
   "execution_count": 48,
   "id": "d4a6ef0b",
   "metadata": {},
   "outputs": [
    {
     "data": {
      "text/html": [
       "<div>\n",
       "<style scoped>\n",
       "    .dataframe tbody tr th:only-of-type {\n",
       "        vertical-align: middle;\n",
       "    }\n",
       "\n",
       "    .dataframe tbody tr th {\n",
       "        vertical-align: top;\n",
       "    }\n",
       "\n",
       "    .dataframe thead th {\n",
       "        text-align: right;\n",
       "    }\n",
       "</style>\n",
       "<table border=\"1\" class=\"dataframe\">\n",
       "  <thead>\n",
       "    <tr style=\"text-align: right;\">\n",
       "      <th></th>\n",
       "      <th>created_date</th>\n",
       "      <th>question</th>\n",
       "      <th>linking_structured_result</th>\n",
       "      <th>filtered_schema_tables</th>\n",
       "      <th>direct_generation_prompt</th>\n",
       "      <th>cot_generation_prompt</th>\n",
       "      <th>direct_generation_generation_response</th>\n",
       "      <th>query_validation_prompt</th>\n",
       "      <th>cot_generation_generation_response</th>\n",
       "      <th>query_validation_response</th>\n",
       "      <th>direct_generation</th>\n",
       "      <th>cot_generation</th>\n",
       "      <th>merger_prompt</th>\n",
       "      <th>merger_response</th>\n",
       "      <th>merger_result</th>\n",
       "      <th>strategy</th>\n",
       "      <th>final_state</th>\n",
       "    </tr>\n",
       "  </thead>\n",
       "  <tbody>\n",
       "    <tr>\n",
       "      <th>0</th>\n",
       "      <td>2025-06-20 11:05:02</td>\n",
       "      <td>khách hàng nào chi tiêu nhiều nhất trong tháng 4</td>\n",
       "      <td>{'schema_linking': 'patient:Bảng này chứa thôn...</td>\n",
       "      <td>[\\n    \"sale_invoice\",\\n    \"expense_voucher\",...</td>\n",
       "      <td>---retry--- \\n \\n\\n    **CHÚ Ý**: \\n    - Phải...</td>\n",
       "      <td>---retry--- \\n \\n\\n    **CHÚ Ý**: \\n    - Phải...</td>\n",
       "      <td>---retry--- \\n {'explaination': 'This SQL quer...</td>\n",
       "      <td>---retry--- \\n \\n\\n    **CHÚ Ý**: \\n    - Phải...</td>\n",
       "      <td>---retry--- \\n {'explaination': 'The query ret...</td>\n",
       "      <td>---retry--- \\n {'is_sql_correct': True, 'expla...</td>\n",
       "      <td>Generator direct_generation result: False.\\nDe...</td>\n",
       "      <td>Generator cot_generation result: False.\\nDetai...</td>\n",
       "      <td>\\n\\n    **CHÚ Ý**: \\n    - Phải tuân thủ đúng ...</td>\n",
       "      <td>{'explaination': 'This SQL query selects the ...</td>\n",
       "      <td>{'explaination': 'This SQL query selects the f...</td>\n",
       "      <td>[{'strategy': 'direct_generation', 'thoughts':...</td>\n",
       "      <td>NaN</td>\n",
       "    </tr>\n",
       "    <tr>\n",
       "      <th>1</th>\n",
       "      <td>2025-06-20 13:38:45</td>\n",
       "      <td>khách hàng nào chi tiêu nhiều nhất trong tháng 4</td>\n",
       "      <td>{'tables': ['patient', 'sale_invoice', 'servic...</td>\n",
       "      <td>[\\n    \"sale_invoice\",\\n    \"receipt\",\\n    \"r...</td>\n",
       "      <td>---retry--- \\n \\n\\n    **CHÚ Ý**: \\n    - Phải...</td>\n",
       "      <td>---retry--- \\n \\n\\n    **CHÚ Ý**: \\n    - Phải...</td>\n",
       "      <td>---retry--- \\n {'sql': 'SELECT p.id AS patient...</td>\n",
       "      <td>---retry--- \\n \\n\\n    **CHÚ Ý**: \\n    - Phải...</td>\n",
       "      <td>---retry--- \\n {'sql': 'SELECT p.full_name, SU...</td>\n",
       "      <td>---retry--- \\n {'is_sql_correct': True, 'expla...</td>\n",
       "      <td>Generator direct_generation result: False.\\nDe...</td>\n",
       "      <td>Generator cot_generation result: False.\\nDetai...</td>\n",
       "      <td>\\n\\n    **CHÚ Ý**: \\n    - Phải tuân thủ đúng ...</td>\n",
       "      <td>{'sql': 'SELECT p.full_name, SUM(si.total_amo...</td>\n",
       "      <td>{'sql': 'SELECT p.full_name, SUM(si.total_amou...</td>\n",
       "      <td>[{'strategy': 'direct_generation', 'thoughts':...</td>\n",
       "      <td>{'schema_linking': {'GSV': Schema(name='GSV', ...</td>\n",
       "    </tr>\n",
       "  </tbody>\n",
       "</table>\n",
       "</div>"
      ],
      "text/plain": [
       "          created_date                                          question  \\\n",
       "0  2025-06-20 11:05:02  khách hàng nào chi tiêu nhiều nhất trong tháng 4   \n",
       "1  2025-06-20 13:38:45  khách hàng nào chi tiêu nhiều nhất trong tháng 4   \n",
       "\n",
       "                           linking_structured_result  \\\n",
       "0  {'schema_linking': 'patient:Bảng này chứa thôn...   \n",
       "1  {'tables': ['patient', 'sale_invoice', 'servic...   \n",
       "\n",
       "                              filtered_schema_tables  \\\n",
       "0  [\\n    \"sale_invoice\",\\n    \"expense_voucher\",...   \n",
       "1  [\\n    \"sale_invoice\",\\n    \"receipt\",\\n    \"r...   \n",
       "\n",
       "                            direct_generation_prompt  \\\n",
       "0  ---retry--- \\n \\n\\n    **CHÚ Ý**: \\n    - Phải...   \n",
       "1  ---retry--- \\n \\n\\n    **CHÚ Ý**: \\n    - Phải...   \n",
       "\n",
       "                               cot_generation_prompt  \\\n",
       "0  ---retry--- \\n \\n\\n    **CHÚ Ý**: \\n    - Phải...   \n",
       "1  ---retry--- \\n \\n\\n    **CHÚ Ý**: \\n    - Phải...   \n",
       "\n",
       "               direct_generation_generation_response  \\\n",
       "0  ---retry--- \\n {'explaination': 'This SQL quer...   \n",
       "1  ---retry--- \\n {'sql': 'SELECT p.id AS patient...   \n",
       "\n",
       "                             query_validation_prompt  \\\n",
       "0  ---retry--- \\n \\n\\n    **CHÚ Ý**: \\n    - Phải...   \n",
       "1  ---retry--- \\n \\n\\n    **CHÚ Ý**: \\n    - Phải...   \n",
       "\n",
       "                  cot_generation_generation_response  \\\n",
       "0  ---retry--- \\n {'explaination': 'The query ret...   \n",
       "1  ---retry--- \\n {'sql': 'SELECT p.full_name, SU...   \n",
       "\n",
       "                           query_validation_response  \\\n",
       "0  ---retry--- \\n {'is_sql_correct': True, 'expla...   \n",
       "1  ---retry--- \\n {'is_sql_correct': True, 'expla...   \n",
       "\n",
       "                                   direct_generation  \\\n",
       "0  Generator direct_generation result: False.\\nDe...   \n",
       "1  Generator direct_generation result: False.\\nDe...   \n",
       "\n",
       "                                      cot_generation  \\\n",
       "0  Generator cot_generation result: False.\\nDetai...   \n",
       "1  Generator cot_generation result: False.\\nDetai...   \n",
       "\n",
       "                                       merger_prompt  \\\n",
       "0  \\n\\n    **CHÚ Ý**: \\n    - Phải tuân thủ đúng ...   \n",
       "1  \\n\\n    **CHÚ Ý**: \\n    - Phải tuân thủ đúng ...   \n",
       "\n",
       "                                     merger_response  \\\n",
       "0   {'explaination': 'This SQL query selects the ...   \n",
       "1   {'sql': 'SELECT p.full_name, SUM(si.total_amo...   \n",
       "\n",
       "                                       merger_result  \\\n",
       "0  {'explaination': 'This SQL query selects the f...   \n",
       "1  {'sql': 'SELECT p.full_name, SUM(si.total_amou...   \n",
       "\n",
       "                                            strategy  \\\n",
       "0  [{'strategy': 'direct_generation', 'thoughts':...   \n",
       "1  [{'strategy': 'direct_generation', 'thoughts':...   \n",
       "\n",
       "                                         final_state  \n",
       "0                                                NaN  \n",
       "1  {'schema_linking': {'GSV': Schema(name='GSV', ...  "
      ]
     },
     "execution_count": 48,
     "metadata": {},
     "output_type": "execute_result"
    }
   ],
   "source": [
    "df"
   ]
  },
  {
   "cell_type": "code",
   "execution_count": 35,
   "id": "b12b78c9",
   "metadata": {},
   "outputs": [
    {
     "name": "stdout",
     "output_type": "stream",
     "text": [
      "\n",
      "\n",
      "    **CHÚ Ý**: \n",
      "    - Phải tuân thủ đúng cú pháp và các quy tắc của hệ quản trị cơ sở dữ liệu MYSQL.\n",
      "    - Câu truy vấn SQL phải chứa thông tin có ý nghĩa và dễ hiểu cho người dùng.\n",
      "    \n",
      "    \n",
      "\n",
      "**Mô tả nhiệm vụ**:\n",
      "Bạn là một chuyên gia SQL có nhiệm vụ tổng hợp các câu lệnh truy vấn SQL candidate thành một câu lệnh SQL cuối cùng. Dựa trên câu hỏi của người dùng, lược đồ cơ sở dữ liệu, và các câu lệnh SQL candidate được cung cấp, hãy phân tích và chọn ra câu lệnh SQL tốt nhất hoặc kết hợp các phần tốt nhất từ các candidate để tạo ra câu lệnh SQL cuối cùng.\n",
      "\n",
      "**Quy trình**:\n",
      "1. **Phân tích câu hỏi**: Đọc kỹ câu hỏi của người dùng để hiểu rõ yêu cầu.\n",
      "2. **Xem xét lược đồ cơ sở dữ liệu**: Kiểm tra cấu trúc cơ sở dữ liệu để đảm bảo câu lệnh SQL cuối cùng phù hợp với lược đồ.\n",
      "3. **Đánh giá các câu lệnh SQL candidate**:\n",
      "   - Kiểm tra tính chính xác của cú pháp.\n",
      "   - Đánh giá hiệu suất và tối ưu hóa.\n",
      "   - Xem xét khả năng cung cấp thông tin dễ hiểu và có ý nghĩa cho người dùng.\n",
      "4. **Tổng hợp câu lệnh SQL cuối cùng**:\n",
      "   - Chọn câu lệnh SQL tốt nhất từ các candidate.\n",
      "   - Hoặc kết hợp các phần tốt nhất từ các candidate để tạo ra câu lệnh SQL cuối cùng.\n",
      "5. **Kiểm tra lại**: Đảm bảo câu lệnh SQL cuối cùng đáp ứng đúng yêu cầu của câu hỏi và tuân thủ các nguyên tắc SQL.\n",
      "\n",
      "**Định dạng đầu ra**: Trình bày câu lệnh SQL cuối cùng dưới dạng một dòng mã SQL duy nhất, sau phần Kết quả cuối cùng. Đảm bảo không có ngắt dòng trong câu lệnh.\n",
      "\n",
      "**Các câu lệnh SQL candidate**:\n",
      "Câu lệnh SQL 1: \n",
      "```sql\n",
      "SELECT p.id AS patient_id, p.full_name, SUM(si.total_amount) AS total_spent FROM patient AS p JOIN sale_invoice AS si ON p.id = si.patient_id WHERE MONTH(si.created_on) = 4 GROUP BY p.id, p.full_name ORDER BY total_spent DESC LIMIT 1;\n",
      "```\n",
      "Câu lệnh SQL 2: \n",
      "```sql\n",
      "SELECT p.full_name, SUM(si.total_amount) AS total_spending FROM sale_invoice si JOIN patient p ON si.patient_id = p.id WHERE MONTH(si.created_on) = 4 GROUP BY p.id ORDER BY total_spending DESC LIMIT 1;\n",
      "```\n",
      "\n",
      "**Kết quả cuối cùng**:\n",
      "        \n"
     ]
    }
   ],
   "source": [
    "print(\n",
    "        df.at[0, 'merger_prompt']\n",
    "        )"
   ]
  },
  {
   "cell_type": "code",
   "execution_count": 50,
   "id": "ee92fdc4",
   "metadata": {},
   "outputs": [],
   "source": [
    "\n",
    "merge_resp = ast.literal_eval(df.at[len(df)-1, 'merger_response'].strip())"
   ]
  },
  {
   "cell_type": "code",
   "execution_count": 51,
   "id": "f41c80ac",
   "metadata": {},
   "outputs": [
    {
     "name": "stdout",
     "output_type": "stream",
     "text": [
      "{'explaination': 'The SQL query selects the full name of the patient and the '\n",
      "                 'total amount spent by each patient in April, then orders the '\n",
      "                 'result by the total amount spent in descending order and '\n",
      "                 'limits the result to the top 1 patient.',\n",
      " 'sql': 'SELECT p.full_name, SUM(si.total_amount) AS total_spent FROM patient '\n",
      "        'p JOIN service_invoice si ON p.id = si.patient_id WHERE '\n",
      "        'MONTH(si.paid_date) = 4 GROUP BY p.full_name ORDER BY total_spent '\n",
      "        'DESC LIMIT 1;'}\n"
     ]
    }
   ],
   "source": [
    "# (json.loads(df.at[0, 'merger_response'].strip()))\n",
    "# pprint(df.at[0, 'merger_response'].strip())\n",
    "pprint(merge_resp)"
   ]
  },
  {
   "cell_type": "code",
   "execution_count": 55,
   "id": "5010593a",
   "metadata": {},
   "outputs": [
    {
     "name": "stdout",
     "output_type": "stream",
     "text": [
      "{'schema_linking': {'GSV': Schema(name='GSV', description=None, tables=[Table(name='sale_invoice', description=None, columns=[Column(name='created_on', type='TIMESTAMP', description='Thời điểm tạo bản ghi,', example='[2025-03-12 13:21:04.825326]'), Column(name='modified_on', type='TIMESTAMP', description='Thời điểm sửa đổi bản ghi gần nhất,', example='[2025-03-24 00:21:33.660689]'), Column(name='created_by', type='INTEGER', description='ID của người tạo bản ghi,', example='[1]'), Column(name='modified_by', type='INTEGER', description='ID của người sửa đổi bản ghi gần nhất,', example='[1]'), Column(name='deleted_at', type='TIMESTAMP', description='Thời điểm bản ghi bị xóa (nếu có)', example=None), Column(name='creator', type='VARCHAR', description='Tên người tạo bản ghi,', example='[Admin]'), Column(name='modifier', type='VARCHAR', description='Tên người sửa đổi bản ghi gần nhất,', example='[Admin]'), Column(name='id', type='INTEGER', description='Mã định danh duy nhất của hóa đơn bán hàng, Primary Key,', example='[1, 2, 3]'), Column(name='sale_invoice_code', type='VARCHAR', description='Mã hóa đơn bán hàng,', example='[HDT1741785664, HDT1741830773, HDT1741916377]'), Column(name='remark', type='TEXT COLLATE \"UTF8MB4_UNICODE_CI\"', description='Ghi chú về hóa đơn bán hàng', example=None), Column(name='print_count', type='INTEGER', description='Số lần in hóa đơn', example=None), Column(name='payment_mode', type='VARCHAR', description='Hình thức thanh toán (ví dụ: tiền mặt),', example='[cash]'), Column(name='sub_total', type='BIGINT', description='Tổng tiền trước chiết khấu,', example='[130000, 18000, 50000]'), Column(name='discount_flexible', type='BIGINT', description='Chiết khấu linh hoạt,', example='[0]'), Column(name='bill_status_id', type='INTEGER', description='Trạng thái của hóa đơn Ánh xạ tới reference_code(id),', example='[54, 56]'), Column(name='release_status_id', type='INTEGER', description='Trạng thái phát hành Ánh xạ tới reference_code(id),', example='[70, 72]'), Column(name='patient_id', type='INTEGER', description='ID của bệnh nhân Ánh xạ tới patient(id),', example='[2, 8946]'), Column(name='prescriber_id', type='INTEGER', description='ID của người kê đơn Ánh xạ tới employee(id),', example='[1]'), Column(name='fiscal_year_id', type='INTEGER', description='ID của năm tài chính Ánh xạ tới fiscal_year(id)', example=None), Column(name='store_id', type='INTEGER', description='ID của cửa hàng Ánh xạ tới store(id),', example='[1]'), Column(name='voucher_id', type='INTEGER', description='ID của voucher (nếu có) Ánh xạ tới voucher(id)', example=None), Column(name='prescription_id', type='INTEGER', description='ID của đơn thuốc Ánh xạ tới prescription(id),', example='[1, 2, 3]'), Column(name='discount_amount', type='BIGINT', description='Số tiền chiết khấu,', example='[0]'), Column(name='discount_per', type='DECIMAL', description='Phần trăm chiết khấu,', example='[0.0]'), Column(name='vat_amount', type='BIGINT', description='Số tiền VAT,', example='[0]'), Column(name='total_amount', type='BIGINT', description='Tổng tiền sau chiết khấu và VAT,', example='[130000, 18000, 50000]'), Column(name='change_amount', type='DECIMAL', description='Tiền trả lại', example=None), Column(name='tender', type='INTEGER', description='Số tiền khách đưa,', example='[0]'), Column(name='received_amount', type='BIGINT', description='Số tiền đã nhận,', example='[0, 18000, 50000]'), Column(name='organization_id', type='INTEGER', description='ID của tổ chức Ánh xạ tới organization(id)', example=None), Column(name='is_transferred_ToAcc', type='TINYINT', description='Đánh dấu đã chuyển sang kế toán hay chưa,', example='[0]'), Column(name='paid_date', type='TIMESTAMP', description='Ngày thanh toán,', example='[2025-03-24 00:21:33]'), Column(name='cashier_id', type='INTEGER', description='ID của thu ngân Ánh xạ tới employee(id)', example=None)]), Table(name='receipt', description=None, columns=[Column(name='created_on', type='TIMESTAMP', description='Thời điểm bản ghi được tạo,', example='[2025-03-12 06:31:42.632042]'), Column(name='modified_on', type='TIMESTAMP', description='Thời điểm bản ghi được chỉnh sửa lần cuối,', example='[2025-03-26 16:43:12.512007]'), Column(name='created_by', type='INTEGER', description='ID của người tạo bản ghi,', example='[1]'), Column(name='modified_by', type='INTEGER', description='ID của người chỉnh sửa bản ghi lần cuối,', example='[1]'), Column(name='deleted_at', type='TIMESTAMP', description='Thời điểm bản ghi bị xóa (nếu có)', example=None), Column(name='creator', type='VARCHAR', description='Tên người tạo bản ghi,', example='[Vttech, Admin]'), Column(name='modifier', type='VARCHAR', description='Tên người chỉnh sửa bản ghi lần cuối,', example='[Vttech, Admin]'), Column(name='id', type='INTEGER', description='Mã định danh duy nhất của receipt, Primary Key,', example='[1, 2, 3]'), Column(name='receipt_num', type='VARCHAR', description='Số biên lai,', example='[PT1741761102, PT1741786983, PT1741788073]'), Column(name='received_date', type='TIMESTAMP', description='Ngày nhận biên lai,', example='[2025-03-12 06:32:22]'), Column(name='vat_percentage', type='DECIMAL', description='Phần trăm VAT', example=None), Column(name='discount_percentage', type='DECIMAL', description='Phần trăm giảm giá,', example='[0.0]'), Column(name='receipt_type_id', type='INTEGER', description='ID loại biên lai Ánh xạ tới reference_code(id),', example='[98, 100]'), Column(name='service_invoice_id', type='INTEGER', description='ID hóa đơn dịch vụ liên quan Ánh xạ tới service_invoice(id),', example='[1, 2, 3]'), Column(name='received_by', type='INTEGER', description='ID của người nhận Ánh xạ tới employee(id),', example='[1]'), Column(name='receipt_status_id', type='INTEGER', description='ID trạng thái biên lai Ánh xạ tới reference_code(id),', example='[115]'), Column(name='sub_amount', type='BIGINT', description='Tổng tiền trước thuế và giảm giá,', example='[16000000, 3000000, 0]'), Column(name='discount_amount', type='BIGINT', description='Số tiền giảm giá,', example='[0]'), Column(name='vat_amount', type='BIGINT', description='Số tiền VAT,', example='[0]'), Column(name='total_amount', type='BIGINT', description='Tổng tiền sau thuế và giảm giá,', example='[16000000, 3000000, 0]'), Column(name='received_amount', type='BIGINT', description='Số tiền đã nhận,', example='[16000000, 3000000, 150000]'), Column(name='change_amount', type='BIGINT', description='Số tiền trả lại,', example='[0]'), Column(name='cash_amount', type='BIGINT', description='Số tiền mặt,', example='[16000000, 3000000, 0]'), Column(name='bank_transfer_amount', type='BIGINT', description='Số tiền chuyển khoản,', example='[0]'), Column(name='credit_amount', type='BIGINT', description='Số tiền tín dụng,', example='[0]'), Column(name='is_transferred_to_acc', type='TINYINT', description='Biến cho biết đã chuyển sang tài khoản chưa (0 hoặc 1),', example='[0]')]), Table(name='receipt_service', description=None, columns=[Column(name='created_on', type='TIMESTAMP', description='Thời điểm bản ghi được tạo,', example='[2025-03-12 06:31:42.636937]'), Column(name='modified_on', type='TIMESTAMP', description='Thời điểm bản ghi được chỉnh sửa lần cuối,', example='[2025-03-12 06:31:42.636937]'), Column(name='created_by', type='INTEGER', description='ID của người tạo bản ghi,', example='[1]'), Column(name='modified_by', type='INTEGER', description='ID của người chỉnh sửa bản ghi lần cuối', example=None), Column(name='deleted_at', type='TIMESTAMP', description='Thời điểm bản ghi bị xóa (nếu có)', example=None), Column(name='creator', type='VARCHAR', description='Tên người tạo bản ghi,', example='[Vttech, Admin]'), Column(name='modifier', type='VARCHAR', description='Tên người chỉnh sửa bản ghi lần cuối', example=None), Column(name='id', type='INTEGER', description='Mã định danh duy nhất của bản ghi receipt_service, Primary Key,', example='[1, 2, 3]'), Column(name='payment_session_total', type='INTEGER', description='Tổng số tiền của phiên thanh toán,', example='[4]'), Column(name='sub_amount', type='BIGINT', description='Số tiền gốc (trước thuế và giảm giá),', example='[16000000, 3000000]'), Column(name='discount_amount', type='BIGINT', description='Số tiền giảm giá,', example='[0]'), Column(name='vat_amount', type='BIGINT', description='Số tiền thuế VAT,', example='[0]'), Column(name='total_amount', type='BIGINT', description='Tổng số tiền (sau thuế và giảm giá),', example='[16000000, 3000000]'), Column(name='service_id', type='INTEGER', description='Mã định danh của dịch vụ Ánh xạ tới service(id),', example='[1, 2, 3]'), Column(name='receipt_id', type='INTEGER', description='Mã định danh của hóa đơn Ánh xạ tới receipt(id),', example='[1, 2, 4]'), Column(name='vat_percentage', type='DECIMAL', description='Phần trăm thuế VAT,', example='[0.0]'), Column(name='discount_percentage', type='DECIMAL', description='Phần trăm giảm giá,', example='[0.0]')]), Table(name='patient', description=None, columns=[Column(name='created_on', type='TIMESTAMP', description='Thời điểm bản ghi bệnh nhân được tạo,', example='[2022-03-30 09:53:30]'), Column(name='modified_on', type='TIMESTAMP', description='Thời điểm bản ghi bệnh nhân được chỉnh sửa lần cuối,', example='[2025-04-03 23:21:33]'), Column(name='created_by', type='INTEGER', description='ID của người tạo bản ghi bệnh nhân', example=None), Column(name='modified_by', type='INTEGER', description='ID của người chỉnh sửa bản ghi bệnh nhân lần cuối', example=None), Column(name='deleted_at', type='TIMESTAMP', description='Thời điểm bản ghi bệnh nhân bị xóa (nếu có)', example=None), Column(name='creator', type='VARCHAR', description='Người tạo bản ghi bệnh nhân', example=None), Column(name='modifier', type='VARCHAR', description='Người chỉnh sửa bản ghi bệnh nhân lần cuối', example=None), Column(name='id', type='INTEGER', description='Mã định danh duy nhất của bệnh nhân, Primary Key,', example='[1, 2, 3]'), Column(name='patient_code', type='VARCHAR', description='Mã bệnh nhân,', example='[KH 000553, KH 000562, KH 000652]'), Column(name='full_name', type='VARCHAR', description='Họ và tên đầy đủ của bệnh nhân,', example='[Anh Thư, Nguyễn Kim Duyên, Đỗ Thị Thu]'), Column(name='image_url', type='TEXT COLLATE \"UTF8MB4_UNICODE_CI\"', description='Đường dẫn đến ảnh của bệnh nhân', example=None), Column(name='sex', type='TINYINT', description='Giới tính của bệnh nhân (0: Nữ, 1: Nam),', example='[0]'), Column(name='date_of_birth', type='DATE', description='Ngày sinh của bệnh nhân,', example='[1900-01-02]'), Column(name='mobile_phone', type='VARCHAR', description='Số điện thoại di động của bệnh nhân,', example='[0355293225, 0988709736, 0899288366]'), Column(name='home_phone', type='VARCHAR', description='Số điện thoại nhà của bệnh nhân', example=None), Column(name='address', type='VARCHAR', description='Địa chỉ của bệnh nhân', example=None), Column(name='religion', type='VARCHAR', description='Tôn giáo của bệnh nhân', example=None), Column(name='personal_email', type='VARCHAR', description='Địa chỉ email cá nhân của bệnh nhân', example=None), Column(name='identity_type', type='VARCHAR', description='Loại giấy tờ tùy thân của bệnh nhân', example=None), Column(name='identity_number', type='VARCHAR', description='Số giấy tờ tùy thân của bệnh nhân', example=None), Column(name='identity_date_of_issue', type='DATE', description='Ngày cấp giấy tờ tùy thân của bệnh nhân', example=None), Column(name='identity_place_of_issue', type='VARCHAR', description='Nơi cấp giấy tờ tùy thân của bệnh nhân', example=None), Column(name='ethnic_group', type='VARCHAR', description='Dân tộc của bệnh nhân', example=None), Column(name='occupation', type='VARCHAR', description='Nghề nghiệp của bệnh nhân', example=None), Column(name='recommender_name', type='VARCHAR', description='Tên người giới thiệu bệnh nhân', example=None), Column(name='recommender_phone', type='VARCHAR', description='Số điện thoại người giới thiệu bệnh nhân', example=None), Column(name='is_outpatient', type='TINYINT', description='Bệnh nhân là ngoại trú (1: Có, 0: Không),', example='[1]'), Column(name='is_completed', type='TINYINT', description='Thông tin bệnh nhân đã hoàn tất (1: Có, 0: Không),', example='[0]'), Column(name='ins_has_insurance', type='TINYINT', description='Bệnh nhân có bảo hiểm (1: Có, 0: Không)', example=None), Column(name='insurance_number', type='VARCHAR', description='Số bảo hiểm của bệnh nhân', example=None), Column(name='insurance_full_name', type='VARCHAR', description='Tên đầy đủ trên bảo hiểm của bệnh nhân', example=None), Column(name='insurance_start_date', type='DATE', description='Ngày bắt đầu bảo hiểm của bệnh nhân', example=None), Column(name='insurance_end_date', type='DATE', description='Ngày kết thúc bảo hiểm của bệnh nhân', example=None), Column(name='relatives_name', type='VARCHAR', description='Tên người thân của bệnh nhân', example=None), Column(name='relatives_phone', type='VARCHAR', description='Số điện thoại người thân của bệnh nhân', example=None), Column(name='treatment_count', type='INTEGER', description='Số lần điều trị của bệnh nhân,', example='[0]'), Column(name='visit_count', type='INTEGER', description='Số lần khám bệnh của bệnh nhân,', example='[0]'), Column(name='miss_appointment_count', type='INTEGER', description='Số lần lỡ hẹn của bệnh nhân,', example='[0]'), Column(name='first_visit_date', type='DATE', description='Ngày khám bệnh đầu tiên của bệnh nhân,', example='[2025-04-04]'), Column(name='last_visit_date', type='DATE', description='Ngày khám bệnh gần nhất của bệnh nhân', example=None), Column(name='blood_group_id', type='INTEGER', description='ID nhóm máu của bệnh nhân Ánh xạ tới reference_code(id)', example=None), Column(name='marital_status_id', type='INTEGER', description='ID tình trạng hôn nhân của bệnh nhân Ánh xạ tới reference_code(id)', example=None), Column(name='relatives_relationship_id', type='INTEGER', description='ID quan hệ với người thân Ánh xạ tới reference_code(id)', example=None), Column(name='referrer_id', type='INTEGER', description='ID người giới thiệu Ánh xạ tới employee(id)', example=None), Column(name='telesale_id', type='INTEGER', description='ID nhân viên telesale Ánh xạ tới employee(id)', example=None), Column(name='branch_id', type='INTEGER', description='ID chi nhánh Ánh xạ tới branch(id),', example='[1, 2]'), Column(name='membership_type_id', type='INTEGER', description='ID loại thành viên Ánh xạ tới membership_type(id),', example='[3, 4, 5]'), Column(name='location_id', type='INTEGER', description='ID địa điểm Ánh xạ tới location(id),', example='[250, 290, 313]'), Column(name='nationality_id', type='INTEGER', description='ID quốc tịch Ánh xạ tới location(id),', example='[1]'), Column(name='userId', type='INTEGER', description='ID người dùng Ánh xạ tới user(id)', example=None), Column(name='returnCustomersId', type='INTEGER', description='ID khách hàng quay lại Ánh xạ tới return_customer(id)', example=None), Column(name='money_total', type='INTEGER', description='Tổng số tiền bệnh nhân đã thanh toán,', example='[150000, 98037500, 0]'), Column(name='support_agent_id', type='INTEGER', description='ID nhân viên hỗ trợ Ánh xạ tới employee(id)', example=None), Column(name='last_care_date', type='DATE', description='Ngày chăm sóc gần nhất', example=None)]), Table(name='service_invoice', description=None, columns=[Column(name='created_on', type='TIMESTAMP', description='Thời điểm tạo bản ghi,', example='[2025-03-12 06:31:42.626366]'), Column(name='modified_on', type='TIMESTAMP', description='Thời điểm cập nhật bản ghi,', example='[2025-03-12 06:32:22]'), Column(name='created_by', type='INTEGER', description='ID của người tạo bản ghi,', example='[1]'), Column(name='modified_by', type='INTEGER', description='ID của người cập nhật bản ghi,', example='[1]'), Column(name='deleted_at', type='TIMESTAMP', description='Thời điểm xóa bản ghi (nếu có)', example=None), Column(name='creator', type='VARCHAR', description='Tên người tạo bản ghi,', example='[Vttech, Admin]'), Column(name='modifier', type='VARCHAR', description='Tên người cập nhật bản ghi,', example='[Vttech, Admin]'), Column(name='id', type='INTEGER', description='Mã định danh duy nhất của hóa đơn dịch vụ, Primary Key,', example='[1, 2, 3]'), Column(name='service_invoice_code', type='VARCHAR', description='Mã hóa đơn dịch vụ,', example='[HD89451741761102, HD89461741786983, HD89461741788073]'), Column(name='service_invoice_name', type='VARCHAR', description='Tên hóa đơn dịch vụ,', example='[HD89451741761102, HD89461741786983, HD89461741788073]'), Column(name='total_quantity', type='INTEGER', description='Tổng số lượng dịch vụ trong hóa đơn,', example='[1]'), Column(name='sub_total_amount', type='BIGINT', description='Tổng tiền trước chiết khấu,', example='[16000000, 3000000, 0]'), Column(name='discount_amount', type='BIGINT', description='Số tiền chiết khấu,', example='[0]'), Column(name='adjustment_amount', type='BIGINT', description='Số tiền điều chỉnh,', example='[0]'), Column(name='deposit_deduct_amount', type='BIGINT', description='Số tiền cấn trừ từ tiền đặt cọc,', example='[0]'), Column(name='deposit_amount', type='BIGINT', description='Số tiền đặt cọc,', example='[0]'), Column(name='total_amount', type='BIGINT', description='Tổng tiền phải trả sau chiết khấu và điều chỉnh,', example='[16000000, 3000000, 0]'), Column(name='paid_amount', type='BIGINT', description='Số tiền đã thanh toán,', example='[16000000, 3000000, 150000]'), Column(name='cash_amount', type='BIGINT', description='Số tiền thanh toán bằng tiền mặt,', example='[16000000, 3000000, 150000]'), Column(name='credit_amount', type='BIGINT', description='Số tiền thanh toán bằng thẻ tín dụng', example=None), Column(name='bank_transfer_amount', type='BIGINT', description='Số tiền thanh toán bằng chuyển khoản ngân hàng', example=None), Column(name='remark', type='TEXT COLLATE \"UTF8MB4_UNICODE_CI\"', description='Ghi chú về hóa đơn', example=None), Column(name='print_count', type='INTEGER', description='Số lần in hóa đơn', example=None), Column(name='invoice_print_id', type='INTEGER', description='ID của bản in hóa đơn', example=None), Column(name='is_co_payment', type='TINYINT', description='Đánh dấu nếu là đồng chi trả', example=None), Column(name='paid_date', type='TIMESTAMP', description='Ngày thanh toán,', example='[2025-03-12 06:32:22]'), Column(name='patient_id', type='INTEGER', description='ID của bệnh nhân Ánh xạ tới patient(id),', example='[8945, 8946]'), Column(name='examination_id', type='INTEGER', description='ID của lần khám Ánh xạ tới examination(id),', example='[1]'), Column(name='package_id', type='INTEGER', description='ID của gói dịch vụ Ánh xạ tới package(id),', example='[1, 2]'), Column(name='branch_id', type='INTEGER', description='ID của chi nhánh Ánh xạ tới branch(id),', example='[1]'), Column(name='prescriber_id', type='INTEGER', description='ID của người kê đơn Ánh xạ tới employee(id),', example='[1]'), Column(name='fiscal_year_id', type='INTEGER', description='ID của năm tài chính Ánh xạ tới fiscal_year(id)', example=None), Column(name='bill_status_id', type='INTEGER', description='ID của trạng thái hóa đơn Ánh xạ tới reference_code(id),', example='[54]'), Column(name='discount_percentage', type='DECIMAL', description='Phần trăm chiết khấu,', example='[0.0]'), Column(name='vat_amount', type='BIGINT', description='Số tiền VAT,', example='[0]'), Column(name='vat_percentage', type='DECIMAL', description='Phần trăm VAT,', example='[0.0]')])], foreign_keys=['sale_invoice.patient_id=patient.id', 'receipt.service_invoice_id=service_invoice.id', 'receipt_service.receipt_id=receipt.id', 'service_invoice.patient_id=patient.id'])}, 'tables': ['patient', 'sale_invoice', 'service_invoice', 'receipt', 'receipt_service'], 'user_question': 'khách hàng nào chi tiêu nhiều nhất trong tháng 4', 'is_success': True, 'final_sql': 'SELECT p.full_name, SUM(si.total_amount) AS total_spent FROM patient p JOIN service_invoice si ON p.id = si.patient_id WHERE MONTH(si.paid_date) = 4 GROUP BY p.full_name ORDER BY total_spent DESC LIMIT 1;', 'final_result': \"[('Bùi Quang Vinh', Decimal('138880000'))]\", 'error': 'SQL execution failed', 'candidate_generation': [{'strategy': 'direct_generation', 'thoughts': [{'name': 'direct_generation_candidate', 'value': {'sql': 'SELECT p.id AS patient_id, p.full_name, SUM(si.total_amount) AS total_spent FROM patient AS p JOIN service_invoice AS si ON p.id = si.patient_id WHERE MONTH(si.paid_date) = 4 GROUP BY p.id, p.full_name ORDER BY total_spent DESC LIMIT 1;', 'explaination': \"The query retrieves the patient's ID, full name, and total amount spent in April by joining the patient and service_invoice tables, filtering by month, grouping by patient, ordering by total spent in descending order, and limiting to the top spender.\"}}, {'name': 'validate', 'value': {'is_sql_correct': True, 'explaination': 'The SQL query is valid and does not contain any of the common errors checked for.'}}], 'sql': 'SELECT p.id AS patient_id, p.full_name, SUM(si.total_amount) AS total_spent FROM patient AS p JOIN service_invoice AS si ON p.id = si.patient_id WHERE MONTH(si.paid_date) = 4 GROUP BY p.id, p.full_name ORDER BY total_spent DESC LIMIT 1;', 'execution_result': '', 'is_success': True}, {'strategy': 'cot_generation', 'thoughts': [{'name': 'cot_generation_candidate', 'value': {'sql': 'SELECT p.full_name, SUM(si.total_amount) AS total_spent FROM patient p JOIN sale_invoice si ON p.id = si.patient_id WHERE MONTH(si.created_on) = 4 GROUP BY p.full_name ORDER BY total_spent DESC LIMIT 1;', 'explaination': 'The query retrieves the full name of the patient and the total amount spent by each patient in April. It joins the patient and sale_invoice tables on the patient id. It filters the results to only include records from April, groups the results by patient full name, orders the results by total spent in descending order, and limits the results to the top 1.'}}, {'name': 'validate', 'value': {'is_sql_correct': True, 'explaination': 'The SQL query is valid and follows MYSQL syntax. It correctly retrieves the full name of the patient who spent the most in April by joining the patient and sale_invoice tables, filtering by month, grouping by patient name, ordering by total spent in descending order, and limiting the result to the top 1.'}}], 'sql': 'SELECT p.full_name, SUM(si.total_amount) AS total_spent FROM patient p JOIN sale_invoice si ON p.id = si.patient_id WHERE MONTH(si.created_on) = 4 GROUP BY p.full_name ORDER BY total_spent DESC LIMIT 1;', 'execution_result': '', 'is_success': True}, {'strategy': 'merge', 'sql': 'SELECT p.full_name, SUM(si.total_amount) AS total_spent FROM patient p JOIN service_invoice si ON p.id = si.patient_id WHERE MONTH(si.paid_date) = 4 GROUP BY p.full_name ORDER BY total_spent DESC LIMIT 1;', 'thoughts': [{'name': 'merge', 'value': 'The SQL query selects the full name of the patient and the total amount spent by each patient in April, then orders the result by the total amount spent in descending order and limits the result to the top 1 patient.'}], 'execution_result': \"[('Bùi Quang Vinh', Decimal('138880000'))]\", 'is_success': True}]}\n"
     ]
    }
   ],
   "source": [
    "print((df.at[len(df)-1, 'final_state'].strip()))"
   ]
  },
  {
   "cell_type": "code",
   "execution_count": 52,
   "id": "cd9f7cdf",
   "metadata": {},
   "outputs": [
    {
     "data": {
      "text/plain": [
       "Index(['created_date', 'question', 'linking_structured_result',\n",
       "       'filtered_schema_tables', 'direct_generation_prompt',\n",
       "       'cot_generation_prompt', 'direct_generation_generation_response',\n",
       "       'query_validation_prompt', 'cot_generation_generation_response',\n",
       "       'query_validation_response', 'direct_generation', 'cot_generation',\n",
       "       'merger_prompt', 'merger_response', 'merger_result', 'strategy',\n",
       "       'final_state'],\n",
       "      dtype='object')"
      ]
     },
     "execution_count": 52,
     "metadata": {},
     "output_type": "execute_result"
    }
   ],
   "source": [
    "df.columns"
   ]
  }
 ],
 "metadata": {
  "kernelspec": {
   "display_name": ".venv",
   "language": "python",
   "name": "python3"
  },
  "language_info": {
   "codemirror_mode": {
    "name": "ipython",
    "version": 3
   },
   "file_extension": ".py",
   "mimetype": "text/x-python",
   "name": "python",
   "nbconvert_exporter": "python",
   "pygments_lexer": "ipython3",
   "version": "3.12.10"
  }
 },
 "nbformat": 4,
 "nbformat_minor": 5
}
